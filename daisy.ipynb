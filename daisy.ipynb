{
 "cells": [
  {
   "cell_type": "code",
   "execution_count": 2,
   "metadata": {},
   "outputs": [],
   "source": [
    "import pandas as pd\n",
    "import datetime"
   ]
  },
  {
   "cell_type": "code",
   "execution_count": 3,
   "metadata": {},
   "outputs": [],
   "source": [
    "# Reading in data\n",
    "\n",
    "crimes = pd.read_csv('Crimes.csv')\n",
    "full_moon = pd.read_csv('full_moon.csv')\n",
    "holidays = pd.read_csv('holidays.csv')\n",
    "weather = pd.read_csv('weather.csv')"
   ]
  },
  {
   "cell_type": "markdown",
   "metadata": {},
   "source": [
    "Here each date column is turned into a simple date time of the form Year/Month/Day to more easily join them together."
   ]
  },
  {
   "cell_type": "code",
   "execution_count": 4,
   "metadata": {},
   "outputs": [],
   "source": [
    "# Aligning date columns to allow for joining\n",
    "\n",
    "weather['date'] = pd.to_datetime(weather['datetime'])\n",
    "weather.drop(columns=['datetime'], inplace = True)\n",
    "\n",
    "crimes['Date'] = pd.to_datetime(crimes.Date)\n",
    "crimes['date'] = pd.to_datetime(pd.to_datetime(crimes['Date']).dt.date)\n",
    "crimes['time'] = pd.to_datetime(crimes['Date']).dt.time\n",
    "crimes['day_of_week'] = pd.to_datetime(crimes['date']).dt.day_of_week\n",
    "crimes.drop(columns=['Date'], inplace=True)\n",
    "\n",
    "full_moon['date'] = pd.to_datetime(full_moon.FullMoonDates)\n",
    "full_moon.drop(columns=['FullMoonDates', 'Year'], inplace=True)\n",
    "full_moon['full_moon'] = (pd.DataFrame({'full_moon': pd.Series(['full moon'] * len(full_moon))}))\n",
    "\n",
    "holidays['date'] = pd.to_datetime(holidays.Date)\n",
    "holidays.drop(columns = ['Date'], inplace=True)"
   ]
  },
  {
   "cell_type": "code",
   "execution_count": 5,
   "metadata": {},
   "outputs": [],
   "source": [
    "# Merging dataframes\n",
    "\n",
    "merged = pd.merge(crimes, weather, on='date', how='left')\n",
    "merged = pd.merge(merged, full_moon, on='date', how = 'left')\n",
    "merged = pd.merge(merged, holidays, on='date', how = 'left')\n"
   ]
  },
  {
   "cell_type": "markdown",
   "metadata": {},
   "source": [
    "Below is a list of all of the possible factors from the datasets.\n",
    "\n",
    "One thing we will want to consider - the prompt asks for us to limit our analysis to instances of violent crime, which some of the rows aren't. We could use the IUCR Illinois crime codes, the FBI codes or the descriptions to find a way to limit the rows."
   ]
  },
  {
   "cell_type": "code",
   "execution_count": 7,
   "metadata": {},
   "outputs": [],
   "source": [
    "df = merged[['date',\n",
    " 'time',\n",
    " 'day_of_week',\n",
    " # 'ID', 'Case Number',\n",
    " # 'Block',\n",
    " 'IUCR',\n",
    " 'Primary Type',\n",
    " 'Description',\n",
    " 'Location Description',\n",
    " # 'Arrest',\n",
    " # 'Domestic',\n",
    " 'Beat',\n",
    " 'District',\n",
    " 'Ward',\n",
    " 'Community Area',\n",
    " 'FBI Code',\n",
    " # 'X Coordinate',\n",
    " # 'Y Coordinate',\n",
    " # 'Year',\n",
    " # 'Updated On',\n",
    " # 'Latitude',\n",
    " # 'Longitude',\n",
    " 'Location',\n",
    " # 'name',\n",
    " 'tempmax',\n",
    " 'tempmin',\n",
    " 'temp',\n",
    " 'feelslikemax',\n",
    " 'feelslikemin',\n",
    " 'feelslike',\n",
    " 'dew',\n",
    " 'humidity',\n",
    " 'precip',\n",
    " 'precipprob',\n",
    " 'precipcover',\n",
    " 'preciptype',\n",
    " 'snow',\n",
    " 'snowdepth',\n",
    " 'windgust',\n",
    " 'windspeed',\n",
    " # 'winddir',\n",
    " # 'sealevelpressure',\n",
    " 'cloudcover',\n",
    " 'visibility',\n",
    " # 'solarradiation',\n",
    " # 'solarenergy',\n",
    " # 'uvindex',\n",
    " # 'severerisk',\n",
    " 'sunrise',\n",
    " 'sunset',\n",
    " 'moonphase',\n",
    " 'conditions',\n",
    " # 'description',\n",
    " # 'icon',\n",
    " # 'stations',\n",
    " 'full_moon',\n",
    " 'Holiday',\n",
    " # 'Day of Week'\n",
    " ]]"
   ]
  },
  {
   "cell_type": "code",
   "execution_count": 20,
   "metadata": {},
   "outputs": [],
   "source": [
    "crime_count = pd.DataFrame(crimes['date'].value_counts().reset_index())"
   ]
  },
  {
   "cell_type": "code",
   "execution_count": 23,
   "metadata": {},
   "outputs": [],
   "source": [
    "merged2 = pd.merge(crime_count, weather, on='date', how='left')\n",
    "merged2 = pd.merge(merged2, full_moon, on='date', how = 'left')\n",
    "merged2 = pd.merge(merged2, holidays, on='date', how = 'left')"
   ]
  },
  {
   "cell_type": "code",
   "execution_count": 29,
   "metadata": {},
   "outputs": [],
   "source": [
    "merged2 = merged2[merged2['date'].dt.year > 2009]"
   ]
  },
  {
   "cell_type": "code",
   "execution_count": 36,
   "metadata": {},
   "outputs": [
    {
     "data": {
      "text/html": [
       "<div>\n",
       "<style scoped>\n",
       "    .dataframe tbody tr th:only-of-type {\n",
       "        vertical-align: middle;\n",
       "    }\n",
       "\n",
       "    .dataframe tbody tr th {\n",
       "        vertical-align: top;\n",
       "    }\n",
       "\n",
       "    .dataframe thead th {\n",
       "        text-align: right;\n",
       "    }\n",
       "</style>\n",
       "<table border=\"1\" class=\"dataframe\">\n",
       "  <thead>\n",
       "    <tr style=\"text-align: right;\">\n",
       "      <th></th>\n",
       "      <th>date</th>\n",
       "      <th>count</th>\n",
       "      <th>name</th>\n",
       "      <th>tempmax</th>\n",
       "      <th>tempmin</th>\n",
       "      <th>temp</th>\n",
       "      <th>feelslikemax</th>\n",
       "      <th>feelslikemin</th>\n",
       "      <th>feelslike</th>\n",
       "      <th>dew</th>\n",
       "      <th>...</th>\n",
       "      <th>conditions</th>\n",
       "      <th>description</th>\n",
       "      <th>icon</th>\n",
       "      <th>stations</th>\n",
       "      <th>full_moon</th>\n",
       "      <th>Holiday</th>\n",
       "      <th>Day of Week</th>\n",
       "      <th>day_of_week</th>\n",
       "      <th>year</th>\n",
       "      <th>month</th>\n",
       "    </tr>\n",
       "  </thead>\n",
       "  <tbody>\n",
       "    <tr>\n",
       "      <th>35</th>\n",
       "      <td>2020-05-31</td>\n",
       "      <td>136</td>\n",
       "      <td>Chicago,United States</td>\n",
       "      <td>18.5</td>\n",
       "      <td>10.8</td>\n",
       "      <td>14.8</td>\n",
       "      <td>18.5</td>\n",
       "      <td>10.8</td>\n",
       "      <td>14.8</td>\n",
       "      <td>4.5</td>\n",
       "      <td>...</td>\n",
       "      <td>Partially cloudy</td>\n",
       "      <td>Partly cloudy throughout the day.</td>\n",
       "      <td>partly-cloudy-day</td>\n",
       "      <td>72534014819,KORD,KMDW,72530094846,AN196,744665...</td>\n",
       "      <td>NaN</td>\n",
       "      <td>NaN</td>\n",
       "      <td>NaN</td>\n",
       "      <td>6</td>\n",
       "      <td>2020</td>\n",
       "      <td>5</td>\n",
       "    </tr>\n",
       "    <tr>\n",
       "      <th>148</th>\n",
       "      <td>2015-08-20</td>\n",
       "      <td>106</td>\n",
       "      <td>Chicago,United States</td>\n",
       "      <td>23.6</td>\n",
       "      <td>15.9</td>\n",
       "      <td>19.4</td>\n",
       "      <td>23.6</td>\n",
       "      <td>15.9</td>\n",
       "      <td>19.4</td>\n",
       "      <td>10.7</td>\n",
       "      <td>...</td>\n",
       "      <td>Partially cloudy</td>\n",
       "      <td>Partly cloudy throughout the day.</td>\n",
       "      <td>partly-cloudy-day</td>\n",
       "      <td>72534014819,KORD,KMDW,72530094846,74466504838,...</td>\n",
       "      <td>NaN</td>\n",
       "      <td>NaN</td>\n",
       "      <td>NaN</td>\n",
       "      <td>3</td>\n",
       "      <td>2015</td>\n",
       "      <td>8</td>\n",
       "    </tr>\n",
       "    <tr>\n",
       "      <th>157</th>\n",
       "      <td>2012-01-01</td>\n",
       "      <td>105</td>\n",
       "      <td>Chicago,United States</td>\n",
       "      <td>6.7</td>\n",
       "      <td>-1.1</td>\n",
       "      <td>2.5</td>\n",
       "      <td>3.9</td>\n",
       "      <td>-8.4</td>\n",
       "      <td>-3.3</td>\n",
       "      <td>-2.8</td>\n",
       "      <td>...</td>\n",
       "      <td>Rain, Partially cloudy</td>\n",
       "      <td>Partly cloudy throughout the day with morning ...</td>\n",
       "      <td>rain</td>\n",
       "      <td>72534014819,KORD,KMDW,72530094846,74466504838,...</td>\n",
       "      <td>NaN</td>\n",
       "      <td>New Year's Day</td>\n",
       "      <td>Sunday</td>\n",
       "      <td>6</td>\n",
       "      <td>2012</td>\n",
       "      <td>1</td>\n",
       "    </tr>\n",
       "    <tr>\n",
       "      <th>203</th>\n",
       "      <td>2016-01-28</td>\n",
       "      <td>101</td>\n",
       "      <td>Chicago,United States</td>\n",
       "      <td>4.7</td>\n",
       "      <td>-0.9</td>\n",
       "      <td>1.6</td>\n",
       "      <td>-0.1</td>\n",
       "      <td>-6.9</td>\n",
       "      <td>-3.6</td>\n",
       "      <td>-3.7</td>\n",
       "      <td>...</td>\n",
       "      <td>Partially cloudy</td>\n",
       "      <td>Partly cloudy throughout the day.</td>\n",
       "      <td>partly-cloudy-day</td>\n",
       "      <td>72534014819,KORD,KMDW,72530094846,74466504838,...</td>\n",
       "      <td>NaN</td>\n",
       "      <td>NaN</td>\n",
       "      <td>NaN</td>\n",
       "      <td>3</td>\n",
       "      <td>2016</td>\n",
       "      <td>1</td>\n",
       "    </tr>\n",
       "    <tr>\n",
       "      <th>249</th>\n",
       "      <td>2012-03-29</td>\n",
       "      <td>98</td>\n",
       "      <td>Chicago,United States</td>\n",
       "      <td>8.3</td>\n",
       "      <td>4.1</td>\n",
       "      <td>6.4</td>\n",
       "      <td>6.3</td>\n",
       "      <td>0.2</td>\n",
       "      <td>3.4</td>\n",
       "      <td>0.4</td>\n",
       "      <td>...</td>\n",
       "      <td>Partially cloudy</td>\n",
       "      <td>Partly cloudy throughout the day.</td>\n",
       "      <td>partly-cloudy-day</td>\n",
       "      <td>72534014819,KORD,KMDW,72530094846,74466504838,...</td>\n",
       "      <td>NaN</td>\n",
       "      <td>NaN</td>\n",
       "      <td>NaN</td>\n",
       "      <td>3</td>\n",
       "      <td>2012</td>\n",
       "      <td>3</td>\n",
       "    </tr>\n",
       "  </tbody>\n",
       "</table>\n",
       "<p>5 rows × 40 columns</p>\n",
       "</div>"
      ],
      "text/plain": [
       "          date  count                   name  tempmax  tempmin  temp  \\\n",
       "35  2020-05-31    136  Chicago,United States     18.5     10.8  14.8   \n",
       "148 2015-08-20    106  Chicago,United States     23.6     15.9  19.4   \n",
       "157 2012-01-01    105  Chicago,United States      6.7     -1.1   2.5   \n",
       "203 2016-01-28    101  Chicago,United States      4.7     -0.9   1.6   \n",
       "249 2012-03-29     98  Chicago,United States      8.3      4.1   6.4   \n",
       "\n",
       "     feelslikemax  feelslikemin  feelslike   dew  ...              conditions  \\\n",
       "35           18.5          10.8       14.8   4.5  ...        Partially cloudy   \n",
       "148          23.6          15.9       19.4  10.7  ...        Partially cloudy   \n",
       "157           3.9          -8.4       -3.3  -2.8  ...  Rain, Partially cloudy   \n",
       "203          -0.1          -6.9       -3.6  -3.7  ...        Partially cloudy   \n",
       "249           6.3           0.2        3.4   0.4  ...        Partially cloudy   \n",
       "\n",
       "                                           description               icon  \\\n",
       "35                   Partly cloudy throughout the day.  partly-cloudy-day   \n",
       "148                  Partly cloudy throughout the day.  partly-cloudy-day   \n",
       "157  Partly cloudy throughout the day with morning ...               rain   \n",
       "203                  Partly cloudy throughout the day.  partly-cloudy-day   \n",
       "249                  Partly cloudy throughout the day.  partly-cloudy-day   \n",
       "\n",
       "                                              stations full_moon  \\\n",
       "35   72534014819,KORD,KMDW,72530094846,AN196,744665...       NaN   \n",
       "148  72534014819,KORD,KMDW,72530094846,74466504838,...       NaN   \n",
       "157  72534014819,KORD,KMDW,72530094846,74466504838,...       NaN   \n",
       "203  72534014819,KORD,KMDW,72530094846,74466504838,...       NaN   \n",
       "249  72534014819,KORD,KMDW,72530094846,74466504838,...       NaN   \n",
       "\n",
       "            Holiday  Day of Week  day_of_week  year  month  \n",
       "35              NaN          NaN            6  2020      5  \n",
       "148             NaN          NaN            3  2015      8  \n",
       "157  New Year's Day       Sunday            6  2012      1  \n",
       "203             NaN          NaN            3  2016      1  \n",
       "249             NaN          NaN            3  2012      3  \n",
       "\n",
       "[5 rows x 40 columns]"
      ]
     },
     "execution_count": 36,
     "metadata": {},
     "output_type": "execute_result"
    }
   ],
   "source": [
    "merged2['day_of_week'] = pd.to_datetime(merged2['date']).dt.day_of_week\n",
    "merged2['year'] = pd.to_datetime(merged2['date']).dt.year\n",
    "merged2['month'] = pd.to_datetime(merged2['date']).dt.month\n",
    "merged2.head()"
   ]
  },
  {
   "cell_type": "code",
   "execution_count": 12,
   "metadata": {},
   "outputs": [
    {
     "data": {
      "text/plain": [
       "Location Description\n",
       "STREET                                             147309\n",
       "SIDEWALK                                            95368\n",
       "RESIDENCE                                           61446\n",
       "APARTMENT                                           58919\n",
       "ALLEY                                               17665\n",
       "                                                    ...  \n",
       "TRUCK                                                   1\n",
       "ROOMING HOUSE                                           1\n",
       "STAIRWELL                                               1\n",
       "LIQUOR STORE                                            1\n",
       "VEHICLE - COMMERCIAL: ENTERTAINMENT / PARTY BUS         1\n",
       "Name: count, Length: 157, dtype: int64"
      ]
     },
     "execution_count": 12,
     "metadata": {},
     "output_type": "execute_result"
    }
   ],
   "source": [
    "df['Location Description'].value_counts()"
   ]
  },
  {
   "cell_type": "code",
   "execution_count": 176,
   "metadata": {},
   "outputs": [
    {
     "ename": "KeyError",
     "evalue": "'Year'",
     "output_type": "error",
     "traceback": [
      "\u001b[1;31m---------------------------------------------------------------------------\u001b[0m",
      "\u001b[1;31mKeyError\u001b[0m                                  Traceback (most recent call last)",
      "File \u001b[1;32mc:\\Users\\Daisy Harris\\anaconda3\\lib\\site-packages\\pandas\\core\\indexes\\base.py:3653\u001b[0m, in \u001b[0;36mIndex.get_loc\u001b[1;34m(self, key)\u001b[0m\n\u001b[0;32m   3652\u001b[0m \u001b[38;5;28;01mtry\u001b[39;00m:\n\u001b[1;32m-> 3653\u001b[0m     \u001b[38;5;28;01mreturn\u001b[39;00m \u001b[38;5;28;43mself\u001b[39;49m\u001b[38;5;241;43m.\u001b[39;49m\u001b[43m_engine\u001b[49m\u001b[38;5;241;43m.\u001b[39;49m\u001b[43mget_loc\u001b[49m\u001b[43m(\u001b[49m\u001b[43mcasted_key\u001b[49m\u001b[43m)\u001b[49m\n\u001b[0;32m   3654\u001b[0m \u001b[38;5;28;01mexcept\u001b[39;00m \u001b[38;5;167;01mKeyError\u001b[39;00m \u001b[38;5;28;01mas\u001b[39;00m err:\n",
      "File \u001b[1;32mc:\\Users\\Daisy Harris\\anaconda3\\lib\\site-packages\\pandas\\_libs\\index.pyx:147\u001b[0m, in \u001b[0;36mpandas._libs.index.IndexEngine.get_loc\u001b[1;34m()\u001b[0m\n",
      "File \u001b[1;32mc:\\Users\\Daisy Harris\\anaconda3\\lib\\site-packages\\pandas\\_libs\\index.pyx:176\u001b[0m, in \u001b[0;36mpandas._libs.index.IndexEngine.get_loc\u001b[1;34m()\u001b[0m\n",
      "File \u001b[1;32mpandas\\_libs\\hashtable_class_helper.pxi:7080\u001b[0m, in \u001b[0;36mpandas._libs.hashtable.PyObjectHashTable.get_item\u001b[1;34m()\u001b[0m\n",
      "File \u001b[1;32mpandas\\_libs\\hashtable_class_helper.pxi:7088\u001b[0m, in \u001b[0;36mpandas._libs.hashtable.PyObjectHashTable.get_item\u001b[1;34m()\u001b[0m\n",
      "\u001b[1;31mKeyError\u001b[0m: 'Year'",
      "\nThe above exception was the direct cause of the following exception:\n",
      "\u001b[1;31mKeyError\u001b[0m                                  Traceback (most recent call last)",
      "Cell \u001b[1;32mIn[176], line 1\u001b[0m\n\u001b[1;32m----> 1\u001b[0m \u001b[43mmerged2\u001b[49m\u001b[43m[\u001b[49m\u001b[38;5;124;43m'\u001b[39;49m\u001b[38;5;124;43mYear\u001b[39;49m\u001b[38;5;124;43m'\u001b[39;49m\u001b[43m]\u001b[49m\u001b[38;5;241m.\u001b[39mvalue_counts()\n",
      "File \u001b[1;32mc:\\Users\\Daisy Harris\\anaconda3\\lib\\site-packages\\pandas\\core\\frame.py:3761\u001b[0m, in \u001b[0;36mDataFrame.__getitem__\u001b[1;34m(self, key)\u001b[0m\n\u001b[0;32m   3759\u001b[0m \u001b[38;5;28;01mif\u001b[39;00m \u001b[38;5;28mself\u001b[39m\u001b[38;5;241m.\u001b[39mcolumns\u001b[38;5;241m.\u001b[39mnlevels \u001b[38;5;241m>\u001b[39m \u001b[38;5;241m1\u001b[39m:\n\u001b[0;32m   3760\u001b[0m     \u001b[38;5;28;01mreturn\u001b[39;00m \u001b[38;5;28mself\u001b[39m\u001b[38;5;241m.\u001b[39m_getitem_multilevel(key)\n\u001b[1;32m-> 3761\u001b[0m indexer \u001b[38;5;241m=\u001b[39m \u001b[38;5;28;43mself\u001b[39;49m\u001b[38;5;241;43m.\u001b[39;49m\u001b[43mcolumns\u001b[49m\u001b[38;5;241;43m.\u001b[39;49m\u001b[43mget_loc\u001b[49m\u001b[43m(\u001b[49m\u001b[43mkey\u001b[49m\u001b[43m)\u001b[49m\n\u001b[0;32m   3762\u001b[0m \u001b[38;5;28;01mif\u001b[39;00m is_integer(indexer):\n\u001b[0;32m   3763\u001b[0m     indexer \u001b[38;5;241m=\u001b[39m [indexer]\n",
      "File \u001b[1;32mc:\\Users\\Daisy Harris\\anaconda3\\lib\\site-packages\\pandas\\core\\indexes\\base.py:3655\u001b[0m, in \u001b[0;36mIndex.get_loc\u001b[1;34m(self, key)\u001b[0m\n\u001b[0;32m   3653\u001b[0m     \u001b[38;5;28;01mreturn\u001b[39;00m \u001b[38;5;28mself\u001b[39m\u001b[38;5;241m.\u001b[39m_engine\u001b[38;5;241m.\u001b[39mget_loc(casted_key)\n\u001b[0;32m   3654\u001b[0m \u001b[38;5;28;01mexcept\u001b[39;00m \u001b[38;5;167;01mKeyError\u001b[39;00m \u001b[38;5;28;01mas\u001b[39;00m err:\n\u001b[1;32m-> 3655\u001b[0m     \u001b[38;5;28;01mraise\u001b[39;00m \u001b[38;5;167;01mKeyError\u001b[39;00m(key) \u001b[38;5;28;01mfrom\u001b[39;00m \u001b[38;5;21;01merr\u001b[39;00m\n\u001b[0;32m   3656\u001b[0m \u001b[38;5;28;01mexcept\u001b[39;00m \u001b[38;5;167;01mTypeError\u001b[39;00m:\n\u001b[0;32m   3657\u001b[0m     \u001b[38;5;66;03m# If we have a listlike key, _check_indexing_error will raise\u001b[39;00m\n\u001b[0;32m   3658\u001b[0m     \u001b[38;5;66;03m#  InvalidIndexError. Otherwise we fall through and re-raise\u001b[39;00m\n\u001b[0;32m   3659\u001b[0m     \u001b[38;5;66;03m#  the TypeError.\u001b[39;00m\n\u001b[0;32m   3660\u001b[0m     \u001b[38;5;28mself\u001b[39m\u001b[38;5;241m.\u001b[39m_check_indexing_error(key)\n",
      "\u001b[1;31mKeyError\u001b[0m: 'Year'"
     ]
    }
   ],
   "source": [
    "merged2['Year'].value_counts()"
   ]
  },
  {
   "cell_type": "code",
   "execution_count": 13,
   "metadata": {},
   "outputs": [
    {
     "data": {
      "text/plain": [
       "Beat\n",
       "1112    53636\n",
       "1121    43333\n",
       "1122    43019\n",
       "1132    40379\n",
       "1133    40329\n",
       "1113    35290\n",
       "1111    34850\n",
       "1135    34156\n",
       "1134    33264\n",
       "1123    31335\n",
       "1131    28706\n",
       "1115    28558\n",
       "1124    27979\n",
       "1114    20491\n",
       "1125    16750\n",
       "1532       40\n",
       "1533       21\n",
       "1331       10\n",
       "1011        9\n",
       "1312        5\n",
       "2535        4\n",
       "1311        3\n",
       "1014        2\n",
       "1531        2\n",
       "1211        2\n",
       "2514        1\n",
       "1654        1\n",
       "1524        1\n",
       "1021        1\n",
       "1215        1\n",
       "2532        1\n",
       "1022        1\n",
       "2113        1\n",
       "1225        1\n",
       "1332        1\n",
       "831         1\n",
       "1023        1\n",
       "1512        1\n",
       "624         1\n",
       "Name: count, dtype: int64"
      ]
     },
     "execution_count": 13,
     "metadata": {},
     "output_type": "execute_result"
    }
   ],
   "source": [
    "df['Beat'].value_counts()"
   ]
  },
  {
   "cell_type": "code",
   "execution_count": 15,
   "metadata": {},
   "outputs": [
    {
     "data": {
      "text/plain": [
       "day_of_week\n",
       "4    76257\n",
       "2    75971\n",
       "3    75254\n",
       "1    75106\n",
       "5    72866\n",
       "0    69990\n",
       "6    66743\n",
       "Name: count, dtype: int64"
      ]
     },
     "execution_count": 15,
     "metadata": {},
     "output_type": "execute_result"
    }
   ],
   "source": [
    "df['day_of_week'].value_counts()"
   ]
  },
  {
   "cell_type": "code",
   "execution_count": null,
   "metadata": {},
   "outputs": [
    {
     "data": {
      "text/plain": [
       "array(['26', '07', '17', '01A', '18', '11', '08B', '04B', '08A', '24',\n",
       "       '04A', '03', '14', '06', '05', '15', '02', '13', '20', '10', '09',\n",
       "       '01B', '22', '16', '19', '12', '27'], dtype=object)"
      ]
     },
     "execution_count": 100,
     "metadata": {},
     "output_type": "execute_result"
    }
   ],
   "source": [
    "pd.unique(df['FBI Code'])"
   ]
  },
  {
   "cell_type": "code",
   "execution_count": null,
   "metadata": {},
   "outputs": [
    {
     "data": {
      "text/html": [
       "<div>\n",
       "<style scoped>\n",
       "    .dataframe tbody tr th:only-of-type {\n",
       "        vertical-align: middle;\n",
       "    }\n",
       "\n",
       "    .dataframe tbody tr th {\n",
       "        vertical-align: top;\n",
       "    }\n",
       "\n",
       "    .dataframe thead th {\n",
       "        text-align: right;\n",
       "    }\n",
       "</style>\n",
       "<table border=\"1\" class=\"dataframe\">\n",
       "  <thead>\n",
       "    <tr style=\"text-align: right;\">\n",
       "      <th></th>\n",
       "      <th>Primary Type</th>\n",
       "      <th>Description</th>\n",
       "      <th>FBI Code</th>\n",
       "    </tr>\n",
       "  </thead>\n",
       "  <tbody>\n",
       "    <tr>\n",
       "      <th>0</th>\n",
       "      <td>OFFENSE INVOLVING CHILDREN</td>\n",
       "      <td>CHILD ABDUCTION</td>\n",
       "      <td>26</td>\n",
       "    </tr>\n",
       "    <tr>\n",
       "      <th>7</th>\n",
       "      <td>KIDNAPPING</td>\n",
       "      <td>UNLAWFUL RESTRAINT</td>\n",
       "      <td>26</td>\n",
       "    </tr>\n",
       "    <tr>\n",
       "      <th>63</th>\n",
       "      <td>OTHER OFFENSE</td>\n",
       "      <td>GUN OFFENDER - DUTY TO REGISTER</td>\n",
       "      <td>26</td>\n",
       "    </tr>\n",
       "    <tr>\n",
       "      <th>78</th>\n",
       "      <td>OTHER OFFENSE</td>\n",
       "      <td>VEHICLE TITLE / REGISTRATION OFFENSE</td>\n",
       "      <td>26</td>\n",
       "    </tr>\n",
       "    <tr>\n",
       "      <th>91</th>\n",
       "      <td>OTHER OFFENSE</td>\n",
       "      <td>VIOLATE ORDER OF PROTECTION</td>\n",
       "      <td>26</td>\n",
       "    </tr>\n",
       "    <tr>\n",
       "      <th>...</th>\n",
       "      <td>...</td>\n",
       "      <td>...</td>\n",
       "      <td>...</td>\n",
       "    </tr>\n",
       "    <tr>\n",
       "      <th>512098</th>\n",
       "      <td>CRIMINAL TRESPASS</td>\n",
       "      <td>TO RESIDENCE</td>\n",
       "      <td>26</td>\n",
       "    </tr>\n",
       "    <tr>\n",
       "      <th>512116</th>\n",
       "      <td>OTHER OFFENSE</td>\n",
       "      <td>VEHICLE TITLE / REGISTRATION OFFENSE</td>\n",
       "      <td>26</td>\n",
       "    </tr>\n",
       "    <tr>\n",
       "      <th>512144</th>\n",
       "      <td>OTHER OFFENSE</td>\n",
       "      <td>HARASSMENT BY ELECTRONIC MEANS</td>\n",
       "      <td>26</td>\n",
       "    </tr>\n",
       "    <tr>\n",
       "      <th>512161</th>\n",
       "      <td>CRIMINAL TRESPASS</td>\n",
       "      <td>TO LAND</td>\n",
       "      <td>26</td>\n",
       "    </tr>\n",
       "    <tr>\n",
       "      <th>512172</th>\n",
       "      <td>CRIMINAL TRESPASS</td>\n",
       "      <td>TO LAND</td>\n",
       "      <td>26</td>\n",
       "    </tr>\n",
       "  </tbody>\n",
       "</table>\n",
       "<p>44801 rows × 3 columns</p>\n",
       "</div>"
      ],
      "text/plain": [
       "                      Primary Type                           Description  \\\n",
       "0       OFFENSE INVOLVING CHILDREN                       CHILD ABDUCTION   \n",
       "7                       KIDNAPPING                    UNLAWFUL RESTRAINT   \n",
       "63                   OTHER OFFENSE       GUN OFFENDER - DUTY TO REGISTER   \n",
       "78                   OTHER OFFENSE  VEHICLE TITLE / REGISTRATION OFFENSE   \n",
       "91                   OTHER OFFENSE           VIOLATE ORDER OF PROTECTION   \n",
       "...                            ...                                   ...   \n",
       "512098           CRIMINAL TRESPASS                          TO RESIDENCE   \n",
       "512116               OTHER OFFENSE  VEHICLE TITLE / REGISTRATION OFFENSE   \n",
       "512144               OTHER OFFENSE        HARASSMENT BY ELECTRONIC MEANS   \n",
       "512161           CRIMINAL TRESPASS                               TO LAND   \n",
       "512172           CRIMINAL TRESPASS                               TO LAND   \n",
       "\n",
       "       FBI Code  \n",
       "0            26  \n",
       "7            26  \n",
       "63           26  \n",
       "78           26  \n",
       "91           26  \n",
       "...         ...  \n",
       "512098       26  \n",
       "512116       26  \n",
       "512144       26  \n",
       "512161       26  \n",
       "512172       26  \n",
       "\n",
       "[44801 rows x 3 columns]"
      ]
     },
     "execution_count": 146,
     "metadata": {},
     "output_type": "execute_result"
    }
   ],
   "source": [
    "df[df['FBI Code'] == '26'][['Primary Type', 'Description', 'FBI Code']]"
   ]
  },
  {
   "cell_type": "markdown",
   "metadata": {},
   "source": [
    "26 - Tresspassing, registration offense, harassment, order violation\\\n",
    "07 - Motor vehicle theft\\\n",
    "17 - Sexual Offense\\\n",
    "18 - Drug Violations\\\n",
    "11 - Fraud/Identity theft/Deception\\\n",
    "08B - Battery - Simple\\\n",
    "04B - Battery - Aggravated\\\n",
    "08A - Assault - Simple\\\n",
    "24 - Violation of Peace/Interfering with Officer\\\n",
    "14 - Criminal Damage\\\n",
    "06 - Theft\\\n",
    "05 - Burglary\\\n",
    "15 - Weapons Violation\\\n",
    "13 - Deceptive Practice (Buying or receiving stolen property)\\\n",
    "20 - Offense Involving Children (Abandonment or Endangering)\\\n",
    "10 - Forgery and Counterfeit\\\n",
    "09 - Arson\\\n",
    "22 - Liquor law violation\\\n",
    "16 - Prostitution\\\n",
    "19 - Gambling\\\n",
    "12 - Embezzlement\\\n",
    "27 - Sex Offense\\\n",
    "01B - Homicide\n",
    "\n",
    "\n",
    "#### Violent Crimes\n",
    "01A - First Degree Murder\\\n",
    "03 - Robbery\\\n",
    "04A - Assault - Aggravated\\\n",
    "02 - Criminal Sexual Assault"
   ]
  },
  {
   "cell_type": "code",
   "execution_count": 157,
   "metadata": {},
   "outputs": [],
   "source": [
    "X = merged2[['tempmax', 'tempmin', 'temp', 'feelslikemax', 'feelslikemin', 'feelslike', 'humidity',\n",
    "             'precip', 'precipprob', 'precipcover', 'snow', 'snowdepth', 'windgust', 'windspeed', 'winddir', \n",
    "             'sealevelpressure', 'cloudcover', 'visibility', 'solarradiation', 'solarenergy', 'uvindex', 'severerisk', \n",
    "             'moonphase', 'day_of_week', 'year', 'month', 'preciptype', 'sunrise', 'sunset', 'conditions', 'full_moon', 'Holiday']]\n",
    "\n",
    "num_features = merged2[['tempmax', 'tempmin', 'temp', 'feelslikemax', 'feelslikemin', 'feelslike', 'humidity',\n",
    "                        'precip', 'precipprob', 'precipcover', 'snow', 'snowdepth', 'windgust', 'windspeed', 'winddir', \n",
    "                        'sealevelpressure', 'cloudcover', 'visibility', 'solarradiation', 'solarenergy', 'uvindex', 'severerisk', \n",
    "                        'moonphase', 'day_of_week', 'year', 'month']]\n",
    "\n",
    "cat_features = merged2[['preciptype', 'conditions', 'full_moon', 'Holiday']]\n",
    "\n",
    "cat_features = X.select_dtypes(include=\"object\").columns\n",
    "num_features = X.select_dtypes(exclude=\"object\").columns\n",
    "\n",
    "y = list(merged2['count'])"
   ]
  },
  {
   "cell_type": "code",
   "execution_count": 67,
   "metadata": {},
   "outputs": [],
   "source": [
    "from sklearn.pipeline import Pipeline\n",
    "from sklearn.ensemble import RandomForestRegressor\n",
    "from sklearn.preprocessing import PolynomialFeatures, StandardScaler, OneHotEncoder\n",
    "from sklearn.model_selection import train_test_split\n",
    "from sklearn.impute import SimpleImputer\n",
    "from sklearn.compose import ColumnTransformer\n",
    "from sklearn.metrics import accuracy_score, mean_absolute_error\n",
    "from sklearn.feature_selection import SelectPercentile, f_regression"
   ]
  },
  {
   "cell_type": "code",
   "execution_count": 158,
   "metadata": {},
   "outputs": [],
   "source": [
    "numeric = Pipeline(steps=[\n",
    "    ('impute', SimpleImputer(strategy='median')),\n",
    "    ('standardize', StandardScaler())])\n",
    "\n",
    "categorical = Pipeline(steps=[('impute2', SimpleImputer(strategy='most_frequent')),\n",
    "                     ('one_hot', OneHotEncoder(sparse_output=False, handle_unknown='ignore')),\n",
    "                     ('percent', SelectPercentile(f_regression, percentile=60))\n",
    "                     ])\n",
    "\n",
    "preprocessor = ColumnTransformer(\n",
    "    transformers=[\n",
    "        (\"numeric\", numeric, num_features),\n",
    "        (\"categorical\", categorical, cat_features)\n",
    "        ]\n",
    ")\n",
    "rfPipe = Pipeline([('preprocessor', preprocessor),\n",
    "           ('model', RandomForestRegressor())])"
   ]
  },
  {
   "cell_type": "code",
   "execution_count": 159,
   "metadata": {},
   "outputs": [],
   "source": [
    "X_train, X_test, y_train, y_test = train_test_split(X, y, test_size=0.25)\n",
    "\n",
    "rfPipe = rfPipe.fit(X_train, y_train)"
   ]
  },
  {
   "cell_type": "code",
   "execution_count": 162,
   "metadata": {},
   "outputs": [],
   "source": [
    "y_pred = rfPipe.predict(X_test)  \n",
    "mae = mean_absolute_error(y_test, y_pred) "
   ]
  },
  {
   "cell_type": "code",
   "execution_count": 163,
   "metadata": {},
   "outputs": [
    {
     "data": {
      "text/plain": [
       "6.939821981424148"
      ]
     },
     "execution_count": 163,
     "metadata": {},
     "output_type": "execute_result"
    }
   ],
   "source": [
    "mae"
   ]
  },
  {
   "cell_type": "code",
   "execution_count": 144,
   "metadata": {},
   "outputs": [
    {
     "ename": "ValueError",
     "evalue": "All arrays must be of the same length",
     "output_type": "error",
     "traceback": [
      "\u001b[1;31m---------------------------------------------------------------------------\u001b[0m",
      "\u001b[1;31mValueError\u001b[0m                                Traceback (most recent call last)",
      "Cell \u001b[1;32mIn[144], line 8\u001b[0m\n\u001b[0;32m      5\u001b[0m original_cat_feature_names \u001b[38;5;241m=\u001b[39m cat_features\u001b[38;5;241m.\u001b[39mcolumns\n\u001b[0;32m      7\u001b[0m \u001b[38;5;66;03m# Create a DataFrame to store feature importances with corresponding feature names\u001b[39;00m\n\u001b[1;32m----> 8\u001b[0m feature_importance_df \u001b[38;5;241m=\u001b[39m \u001b[43mpd\u001b[49m\u001b[38;5;241;43m.\u001b[39;49m\u001b[43mDataFrame\u001b[49m\u001b[43m(\u001b[49m\u001b[43m{\u001b[49m\u001b[38;5;124;43m'\u001b[39;49m\u001b[38;5;124;43mFeature\u001b[39;49m\u001b[38;5;124;43m'\u001b[39;49m\u001b[43m:\u001b[49m\u001b[43m \u001b[49m\u001b[43moriginal_cat_feature_names\u001b[49m\u001b[43m,\u001b[49m\u001b[43m \u001b[49m\u001b[38;5;124;43m'\u001b[39;49m\u001b[38;5;124;43mImportance\u001b[39;49m\u001b[38;5;124;43m'\u001b[39;49m\u001b[43m:\u001b[49m\u001b[43m \u001b[49m\u001b[43mfeature_importances\u001b[49m\u001b[43m}\u001b[49m\u001b[43m)\u001b[49m\n\u001b[0;32m     10\u001b[0m \u001b[38;5;66;03m# Sort the DataFrame by importance in descending order\u001b[39;00m\n\u001b[0;32m     11\u001b[0m feature_importance_df \u001b[38;5;241m=\u001b[39m feature_importance_df\u001b[38;5;241m.\u001b[39msort_values(by\u001b[38;5;241m=\u001b[39m\u001b[38;5;124m'\u001b[39m\u001b[38;5;124mImportance\u001b[39m\u001b[38;5;124m'\u001b[39m, ascending\u001b[38;5;241m=\u001b[39m\u001b[38;5;28;01mFalse\u001b[39;00m)\n",
      "File \u001b[1;32mc:\\Users\\Daisy Harris\\anaconda3\\lib\\site-packages\\pandas\\core\\frame.py:709\u001b[0m, in \u001b[0;36mDataFrame.__init__\u001b[1;34m(self, data, index, columns, dtype, copy)\u001b[0m\n\u001b[0;32m    703\u001b[0m     mgr \u001b[38;5;241m=\u001b[39m \u001b[38;5;28mself\u001b[39m\u001b[38;5;241m.\u001b[39m_init_mgr(\n\u001b[0;32m    704\u001b[0m         data, axes\u001b[38;5;241m=\u001b[39m{\u001b[38;5;124m\"\u001b[39m\u001b[38;5;124mindex\u001b[39m\u001b[38;5;124m\"\u001b[39m: index, \u001b[38;5;124m\"\u001b[39m\u001b[38;5;124mcolumns\u001b[39m\u001b[38;5;124m\"\u001b[39m: columns}, dtype\u001b[38;5;241m=\u001b[39mdtype, copy\u001b[38;5;241m=\u001b[39mcopy\n\u001b[0;32m    705\u001b[0m     )\n\u001b[0;32m    707\u001b[0m \u001b[38;5;28;01melif\u001b[39;00m \u001b[38;5;28misinstance\u001b[39m(data, \u001b[38;5;28mdict\u001b[39m):\n\u001b[0;32m    708\u001b[0m     \u001b[38;5;66;03m# GH#38939 de facto copy defaults to False only in non-dict cases\u001b[39;00m\n\u001b[1;32m--> 709\u001b[0m     mgr \u001b[38;5;241m=\u001b[39m \u001b[43mdict_to_mgr\u001b[49m\u001b[43m(\u001b[49m\u001b[43mdata\u001b[49m\u001b[43m,\u001b[49m\u001b[43m \u001b[49m\u001b[43mindex\u001b[49m\u001b[43m,\u001b[49m\u001b[43m \u001b[49m\u001b[43mcolumns\u001b[49m\u001b[43m,\u001b[49m\u001b[43m \u001b[49m\u001b[43mdtype\u001b[49m\u001b[38;5;241;43m=\u001b[39;49m\u001b[43mdtype\u001b[49m\u001b[43m,\u001b[49m\u001b[43m \u001b[49m\u001b[43mcopy\u001b[49m\u001b[38;5;241;43m=\u001b[39;49m\u001b[43mcopy\u001b[49m\u001b[43m,\u001b[49m\u001b[43m \u001b[49m\u001b[43mtyp\u001b[49m\u001b[38;5;241;43m=\u001b[39;49m\u001b[43mmanager\u001b[49m\u001b[43m)\u001b[49m\n\u001b[0;32m    710\u001b[0m \u001b[38;5;28;01melif\u001b[39;00m \u001b[38;5;28misinstance\u001b[39m(data, ma\u001b[38;5;241m.\u001b[39mMaskedArray):\n\u001b[0;32m    711\u001b[0m     \u001b[38;5;28;01mfrom\u001b[39;00m \u001b[38;5;21;01mnumpy\u001b[39;00m\u001b[38;5;21;01m.\u001b[39;00m\u001b[38;5;21;01mma\u001b[39;00m \u001b[38;5;28;01mimport\u001b[39;00m mrecords\n",
      "File \u001b[1;32mc:\\Users\\Daisy Harris\\anaconda3\\lib\\site-packages\\pandas\\core\\internals\\construction.py:481\u001b[0m, in \u001b[0;36mdict_to_mgr\u001b[1;34m(data, index, columns, dtype, typ, copy)\u001b[0m\n\u001b[0;32m    477\u001b[0m     \u001b[38;5;28;01melse\u001b[39;00m:\n\u001b[0;32m    478\u001b[0m         \u001b[38;5;66;03m# dtype check to exclude e.g. range objects, scalars\u001b[39;00m\n\u001b[0;32m    479\u001b[0m         arrays \u001b[38;5;241m=\u001b[39m [x\u001b[38;5;241m.\u001b[39mcopy() \u001b[38;5;28;01mif\u001b[39;00m \u001b[38;5;28mhasattr\u001b[39m(x, \u001b[38;5;124m\"\u001b[39m\u001b[38;5;124mdtype\u001b[39m\u001b[38;5;124m\"\u001b[39m) \u001b[38;5;28;01melse\u001b[39;00m x \u001b[38;5;28;01mfor\u001b[39;00m x \u001b[38;5;129;01min\u001b[39;00m arrays]\n\u001b[1;32m--> 481\u001b[0m \u001b[38;5;28;01mreturn\u001b[39;00m \u001b[43marrays_to_mgr\u001b[49m\u001b[43m(\u001b[49m\u001b[43marrays\u001b[49m\u001b[43m,\u001b[49m\u001b[43m \u001b[49m\u001b[43mcolumns\u001b[49m\u001b[43m,\u001b[49m\u001b[43m \u001b[49m\u001b[43mindex\u001b[49m\u001b[43m,\u001b[49m\u001b[43m \u001b[49m\u001b[43mdtype\u001b[49m\u001b[38;5;241;43m=\u001b[39;49m\u001b[43mdtype\u001b[49m\u001b[43m,\u001b[49m\u001b[43m \u001b[49m\u001b[43mtyp\u001b[49m\u001b[38;5;241;43m=\u001b[39;49m\u001b[43mtyp\u001b[49m\u001b[43m,\u001b[49m\u001b[43m \u001b[49m\u001b[43mconsolidate\u001b[49m\u001b[38;5;241;43m=\u001b[39;49m\u001b[43mcopy\u001b[49m\u001b[43m)\u001b[49m\n",
      "File \u001b[1;32mc:\\Users\\Daisy Harris\\anaconda3\\lib\\site-packages\\pandas\\core\\internals\\construction.py:115\u001b[0m, in \u001b[0;36marrays_to_mgr\u001b[1;34m(arrays, columns, index, dtype, verify_integrity, typ, consolidate)\u001b[0m\n\u001b[0;32m    112\u001b[0m \u001b[38;5;28;01mif\u001b[39;00m verify_integrity:\n\u001b[0;32m    113\u001b[0m     \u001b[38;5;66;03m# figure out the index, if necessary\u001b[39;00m\n\u001b[0;32m    114\u001b[0m     \u001b[38;5;28;01mif\u001b[39;00m index \u001b[38;5;129;01mis\u001b[39;00m \u001b[38;5;28;01mNone\u001b[39;00m:\n\u001b[1;32m--> 115\u001b[0m         index \u001b[38;5;241m=\u001b[39m \u001b[43m_extract_index\u001b[49m\u001b[43m(\u001b[49m\u001b[43marrays\u001b[49m\u001b[43m)\u001b[49m\n\u001b[0;32m    116\u001b[0m     \u001b[38;5;28;01melse\u001b[39;00m:\n\u001b[0;32m    117\u001b[0m         index \u001b[38;5;241m=\u001b[39m ensure_index(index)\n",
      "File \u001b[1;32mc:\\Users\\Daisy Harris\\anaconda3\\lib\\site-packages\\pandas\\core\\internals\\construction.py:655\u001b[0m, in \u001b[0;36m_extract_index\u001b[1;34m(data)\u001b[0m\n\u001b[0;32m    653\u001b[0m lengths \u001b[38;5;241m=\u001b[39m \u001b[38;5;28mlist\u001b[39m(\u001b[38;5;28mset\u001b[39m(raw_lengths))\n\u001b[0;32m    654\u001b[0m \u001b[38;5;28;01mif\u001b[39;00m \u001b[38;5;28mlen\u001b[39m(lengths) \u001b[38;5;241m>\u001b[39m \u001b[38;5;241m1\u001b[39m:\n\u001b[1;32m--> 655\u001b[0m     \u001b[38;5;28;01mraise\u001b[39;00m \u001b[38;5;167;01mValueError\u001b[39;00m(\u001b[38;5;124m\"\u001b[39m\u001b[38;5;124mAll arrays must be of the same length\u001b[39m\u001b[38;5;124m\"\u001b[39m)\n\u001b[0;32m    657\u001b[0m \u001b[38;5;28;01mif\u001b[39;00m have_dicts:\n\u001b[0;32m    658\u001b[0m     \u001b[38;5;28;01mraise\u001b[39;00m \u001b[38;5;167;01mValueError\u001b[39;00m(\n\u001b[0;32m    659\u001b[0m         \u001b[38;5;124m\"\u001b[39m\u001b[38;5;124mMixing dicts with non-Series may lead to ambiguous ordering.\u001b[39m\u001b[38;5;124m\"\u001b[39m\n\u001b[0;32m    660\u001b[0m     )\n",
      "\u001b[1;31mValueError\u001b[0m: All arrays must be of the same length"
     ]
    }
   ],
   "source": [
    "rf_model = categorical.named_steps['model']\n",
    "\n",
    "feature_importances = rf_model.feature_importances_\n",
    "\n",
    "original_cat_feature_names = cat_features.columns\n",
    "\n",
    "# Create a DataFrame to store feature importances with corresponding feature names\n",
    "feature_importance_df = pd.DataFrame({'Feature': original_cat_feature_names, 'Importance': feature_importances})\n",
    "\n",
    "# Sort the DataFrame by importance in descending order\n",
    "feature_importance_df = feature_importance_df.sort_values(by='Importance', ascending=False)\n",
    "\n",
    "# Print or visualize the feature importances\n",
    "print(feature_importance_df)"
   ]
  },
  {
   "cell_type": "code",
   "execution_count": 130,
   "metadata": {},
   "outputs": [
    {
     "name": "stdout",
     "output_type": "stream",
     "text": [
      "             Feature  Importance\n",
      "24              year    0.408776\n",
      "3       feelslikemax    0.042122\n",
      "14           winddir    0.036727\n",
      "23       day_of_week    0.036087\n",
      "5          feelslike    0.035707\n",
      "0            tempmax    0.035525\n",
      "16        cloudcover    0.034605\n",
      "22         moonphase    0.033265\n",
      "15  sealevelpressure    0.032680\n",
      "18    solarradiation    0.031669\n",
      "13         windspeed    0.030047\n",
      "6           humidity    0.028527\n",
      "1            tempmin    0.027153\n",
      "12          windgust    0.026652\n",
      "4       feelslikemin    0.025114\n",
      "25             month    0.024846\n",
      "19       solarenergy    0.024322\n",
      "2               temp    0.021389\n",
      "7             precip    0.017689\n",
      "17        visibility    0.017124\n",
      "9        precipcover    0.010798\n",
      "20           uvindex    0.008419\n",
      "11         snowdepth    0.006475\n",
      "10              snow    0.003007\n",
      "8         precipprob    0.000954\n",
      "21        severerisk    0.000322\n"
     ]
    }
   ],
   "source": [
    "rf_model = numeric.named_steps['model']\n",
    "\n",
    "feature_importances = rf_model.feature_importances_\n",
    "\n",
    "original_numeric_feature_names = num_features.columns\n",
    "\n",
    "feature_importance_df = pd.DataFrame({'Feature': original_numeric_feature_names, 'Importance': feature_importances})\n",
    "\n",
    "feature_importance_df = feature_importance_df.sort_values(by='Importance', ascending=False)\n",
    "\n",
    "print(feature_importance_df)"
   ]
  },
  {
   "cell_type": "code",
   "execution_count": 170,
   "metadata": {},
   "outputs": [],
   "source": [
    "import matplotlib.pyplot as plt"
   ]
  },
  {
   "cell_type": "code",
   "execution_count": 175,
   "metadata": {},
   "outputs": [
    {
     "data": {
      "image/png": "[encoded data removed]",
      "text/plain": [
       "<Figure size 1000x600 with 1 Axes>"
      ]
     },
     "metadata": {},
     "output_type": "display_data"
    }
   ],
   "source": [
    "# Plot the timeline\n",
    "plt.figure(figsize=(10, 6))\n",
    "plt.plot(merged2['feelslikemax'], merged2['count'])\n",
    "plt.title('Number of Crimes by Max Feels Like Temp')\n",
    "plt.xlabel('Max Feels Like Temp')\n",
    "plt.ylabel('Number of Crimes')\n",
    "plt.grid(True)\n",
    "plt.tight_layout()\n",
    "plt.show()\n",
    "\n"
   ]
  }
 ],
 "metadata": {
  "kernelspec": {
   "display_name": "base",
   "language": "python",
   "name": "python3"
  },
  "language_info": {
   "codemirror_mode": {
    "name": "ipython",
    "version": 3
   },
   "file_extension": ".py",
   "mimetype": "text/x-python",
   "name": "python",
   "nbconvert_exporter": "python",
   "pygments_lexer": "ipython3",
   "version": "3.10.9"
  }
 },
 "nbformat": 4,
 "nbformat_minor": 2
}
